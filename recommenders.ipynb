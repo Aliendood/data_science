{
 "cells": [
  {
   "cell_type": "markdown",
   "metadata": {},
   "source": [
    "## Content\n",
    "\n",
    "**Similarities**<br>\n",
    "[Cosine](#Cosine)<br>\n",
    "[Pearson](#Pearson)<br>\n",
    "[Jaccard](#Jaccard)<br>\n",
    "\n",
    "**Graphlab**<br>\n",
    "[Factorization Recommender](#FactorizationRecommender)<br>\n",
    "[Item Similarity Recommender](#ItemSimilarityRecommender)<br>\n",
    "[Popularity Recommender](#PopularityRecommender)<br>\n",
    "[Ranking Factorization Recommender](#RankingFactorizationRecommender)"
   ]
  },
  {
   "cell_type": "markdown",
   "metadata": {},
   "source": [
    "Imports"
   ]
  },
  {
   "cell_type": "code",
   "execution_count": 1,
   "metadata": {
    "collapsed": false
   },
   "outputs": [
    {
     "name": "stderr",
     "output_type": "stream",
     "text": [
      "A newer version of GraphLab Create (v2.0) is available! Your current version is v1.10.1.\n",
      "\n",
      "You can use pip to upgrade the graphlab-create package. For more information see https://dato.com/products/create/upgrade.\n"
     ]
    },
    {
     "name": "stdout",
     "output_type": "stream",
     "text": [
      "This non-commercial license of GraphLab Create is assigned to lucie.klimosova@gmail.com and will expire on February 23, 2017. For commercial licensing options, visit https://turi.com/buy/.\n"
     ]
    },
    {
     "name": "stderr",
     "output_type": "stream",
     "text": [
      "[INFO] graphlab.cython.cy_server: GraphLab Create v1.10.1 started. Logging: /tmp/graphlab_server_1467864405.log\n"
     ]
    }
   ],
   "source": [
    "from __future__ import division\n",
    "import numpy as np\n",
    "import pandas as pd\n",
    "import matplotlib.pyplot as plt\n",
    "import graphlab as gl\n",
    "\n",
    "%matplotlib inline"
   ]
  },
  {
   "cell_type": "markdown",
   "metadata": {},
   "source": [
    "Data"
   ]
  },
  {
   "cell_type": "code",
   "execution_count": 2,
   "metadata": {
    "collapsed": true
   },
   "outputs": [],
   "source": [
    "from sklearn.datasets import load_iris\n",
    "data = load_iris()\n",
    "y_all = data.target\n",
    "X_all = data.data"
   ]
  },
  {
   "cell_type": "markdown",
   "metadata": {},
   "source": [
    "Train test split"
   ]
  },
  {
   "cell_type": "code",
   "execution_count": 3,
   "metadata": {
    "collapsed": true
   },
   "outputs": [],
   "source": [
    "from sklearn.cross_validation import train_test_split\n",
    "\n",
    "X, X_test, y, y_test = train_test_split(X_all, y_all, test_size=0.25, random_state=42)"
   ]
  },
  {
   "cell_type": "markdown",
   "metadata": {},
   "source": [
    "<a id='Cosine'></a>\n",
    "### Cosine Similarity\n",
    "[cosine_similarity](http://scikit-learn.org/dev/modules/generated/sklearn.metrics.pairwise.cosine_similarity.html) - sklearn, pairwise<br>\n",
    "[cosine](http://docs.scipy.org/doc/scipy-0.14.0/reference/generated/scipy.spatial.distance.cosine.html) - scipy, two datapoints\n",
    "\n",
    "Defined as: `(u*v) / (||u||*||v||)`\n",
    "\n",
    "*treat missing ratings as 0*<br>\n",
    "*cosine plus demeaned data is same as Pearson*"
   ]
  },
  {
   "cell_type": "code",
   "execution_count": 4,
   "metadata": {
    "collapsed": false
   },
   "outputs": [
    {
     "name": "stdout",
     "output_type": "stream",
     "text": [
      "0.998951666649\n"
     ]
    }
   ],
   "source": [
    "print (X[0].dot(X[1])) / (np.linalg.norm(X[0]) * np.linalg.norm(X[1]))"
   ]
  },
  {
   "cell_type": "code",
   "execution_count": 5,
   "metadata": {
    "collapsed": false
   },
   "outputs": [
    {
     "data": {
      "text/plain": [
       "array([[ 1.        ,  0.99895167],\n",
       "       [ 0.99895167,  1.        ]])"
      ]
     },
     "execution_count": 5,
     "metadata": {},
     "output_type": "execute_result"
    }
   ],
   "source": [
    "from sklearn.metrics.pairwise import cosine_similarity\n",
    "\n",
    "cosine_similarity(X[0:2])"
   ]
  },
  {
   "cell_type": "code",
   "execution_count": 6,
   "metadata": {
    "collapsed": false
   },
   "outputs": [
    {
     "data": {
      "text/plain": [
       "0.99895166664881352"
      ]
     },
     "execution_count": 6,
     "metadata": {},
     "output_type": "execute_result"
    }
   ],
   "source": [
    "from scipy import spatial\n",
    "\n",
    "1 - spatial.distance.cosine(X[0], X[1])"
   ]
  },
  {
   "cell_type": "markdown",
   "metadata": {},
   "source": [
    "<a id='Pearson'></a>\n",
    "### Pearson Similarity\n",
    "[pearsonr](http://docs.scipy.org/doc/scipy-0.14.0/reference/generated/scipy.stats.pearsonr.html) - scipy<br>\n",
    "[corrcoef](http://docs.scipy.org/doc/numpy/reference/generated/numpy.corrcoef.html) - numpy, pairwise\n",
    "\n",
    "Defined as: `cov(x,y) / (std(x)*std(y))`<br>\n",
    "`cov(x,y) = x*y - mean(x)*mean(y)`\n",
    "\n",
    "*same as cosine plus demeaned data*"
   ]
  },
  {
   "cell_type": "code",
   "execution_count": 7,
   "metadata": {
    "collapsed": false
   },
   "outputs": [
    {
     "data": {
      "text/plain": [
       "0.9970960693815728"
      ]
     },
     "execution_count": 7,
     "metadata": {},
     "output_type": "execute_result"
    }
   ],
   "source": [
    "((X[0]*X[1]).mean() - X[0].mean() * X[1].mean()) / (X[0].std() * X[1].std())"
   ]
  },
  {
   "cell_type": "code",
   "execution_count": 8,
   "metadata": {
    "collapsed": false
   },
   "outputs": [
    {
     "data": {
      "text/plain": [
       "array([[ 1.        ,  0.99709607],\n",
       "       [ 0.99709607,  1.        ]])"
      ]
     },
     "execution_count": 8,
     "metadata": {},
     "output_type": "execute_result"
    }
   ],
   "source": [
    "np.corrcoef(X[0:2])"
   ]
  },
  {
   "cell_type": "code",
   "execution_count": 9,
   "metadata": {
    "collapsed": false
   },
   "outputs": [
    {
     "data": {
      "text/plain": [
       "0.99709606938157247"
      ]
     },
     "execution_count": 9,
     "metadata": {},
     "output_type": "execute_result"
    }
   ],
   "source": [
    "from scipy.stats import pearsonr\n",
    "pearsonr(X[0], X[1])[0]"
   ]
  },
  {
   "cell_type": "markdown",
   "metadata": {},
   "source": [
    "<a id='Jaccard'></a>\n",
    "### Jaccard Similarity\n",
    "[jaccard_similarity_score](http://scikit-learn.org/stable/modules/generated/sklearn.metrics.jaccard_similarity_score.html)\n",
    "\n",
    "**Technically defined on sets, be careful about using it on vectors.**<br>\n",
    "Defined as the size of the intersection divided by the size of the union of two label sets."
   ]
  },
  {
   "cell_type": "code",
   "execution_count": 10,
   "metadata": {
    "collapsed": false
   },
   "outputs": [
    {
     "data": {
      "text/plain": [
       "0.5"
      ]
     },
     "execution_count": 10,
     "metadata": {},
     "output_type": "execute_result"
    }
   ],
   "source": [
    "#for 0s and 1s\n",
    "X0 = np.array([0,1,1,1,0])\n",
    "X1 = np.array([1,1,1,0,0])\n",
    "\n",
    "sum([x0 == x1 and x0 == 1 for x0, x1 in zip(X0, X1)]) / sum([x0 == 1 or x1 == 1 for x0, x1 in zip(X0, X1)])"
   ]
  },
  {
   "cell_type": "code",
   "execution_count": 11,
   "metadata": {
    "collapsed": false
   },
   "outputs": [
    {
     "name": "stdout",
     "output_type": "stream",
     "text": [
      "0.6\n"
     ]
    }
   ],
   "source": [
    "from sklearn.metrics import jaccard_similarity_score\n",
    "\n",
    "print jaccard_similarity_score(X0, X1) #This considers two zeroes as match which is not what we want"
   ]
  },
  {
   "cell_type": "markdown",
   "metadata": {},
   "source": [
    "### Collaborative Filtering\n",
    "\n",
    "User-based\n",
    "- similarities between users\n",
    "- slow for many users\n",
    "- less stable over time (change in preferences)\n",
    "\n",
    "Item-based\n",
    "- similarities between items\n",
    "- faster with pre-computed item-item similarity\n",
    "- more stable over time (items often in one category, no changes of preferences, more ratings)"
   ]
  },
  {
   "cell_type": "markdown",
   "metadata": {},
   "source": [
    "<a id='Graphlab'></a>\n",
    "### Graphlab Recommenders\n",
    "[recommender](https://dato.com/products/create/docs/graphlab.toolkits.recommender.html)"
   ]
  },
  {
   "cell_type": "markdown",
   "metadata": {},
   "source": [
    "Data"
   ]
  },
  {
   "cell_type": "code",
   "execution_count": 12,
   "metadata": {
    "collapsed": false
   },
   "outputs": [],
   "source": [
    "ratings_contents = pd.read_table(\"data/u.data\",\n",
    "                                names=[\"user\", \"movie\", \"rating\", \"timestamp\"])\n",
    "data = gl.SFrame(ratings_contents)\n",
    "data.remove_column('timestamp')\n",
    "data = data[:1000]\n",
    "\n",
    "one_datapoint_sf = gl.SFrame({'user': [1], 'movie': [100]})"
   ]
  },
  {
   "cell_type": "markdown",
   "metadata": {},
   "source": [
    "<a id='FactorizationRecommender'></a>\n",
    "### Factorization Recommender\n",
    "[FactorizationRecommender](https://dato.com/products/create/docs/generated/graphlab.recommender.factorization_recommender.FactorizationRecommender.html#graphlab.recommender.factorization_recommender.FactorizationRecommender)<br>\n",
    "[create()](https://dato.com/products/create/docs/generated/graphlab.recommender.factorization_recommender.create.html#graphlab.recommender.factorization_recommender.create)\n",
    "\n",
    "Learns latent factors for each user and item and uses them to make rating predictions.\n",
    "\n",
    "*side features may be provided via the user_data and item_data options when the model is created*<br>\n",
    "*observation-specific information, such as the time of day when the user rated the item, can also be included*<br>\n",
    "*strings are treated as categorical variables and integers and floats are treated as numeric variables*"
   ]
  },
  {
   "cell_type": "code",
   "execution_count": 13,
   "metadata": {
    "collapsed": false
   },
   "outputs": [
    {
     "data": {
      "text/html": [
       "<pre>Recsys training: model = factorization_recommender</pre>"
      ],
      "text/plain": [
       "Recsys training: model = factorization_recommender"
      ]
     },
     "metadata": {},
     "output_type": "display_data"
    },
    {
     "name": "stdout",
     "output_type": "stream",
     "text": [
      "[4.984307093389332]\n"
     ]
    },
    {
     "data": {
      "text/html": [
       "<div style=\"max-height:1000px;max-width:1500px;overflow:auto;\"><table frame=\"box\" rules=\"cols\">\n",
       "    <tr>\n",
       "        <th style=\"padding-left: 1em; padding-right: 1em; text-align: center\">user</th>\n",
       "        <th style=\"padding-left: 1em; padding-right: 1em; text-align: center\">movie</th>\n",
       "        <th style=\"padding-left: 1em; padding-right: 1em; text-align: center\">score</th>\n",
       "        <th style=\"padding-left: 1em; padding-right: 1em; text-align: center\">rank</th>\n",
       "    </tr>\n",
       "    <tr>\n",
       "        <td style=\"padding-left: 1em; padding-right: 1em; text-align: center; vertical-align: top\">1</td>\n",
       "        <td style=\"padding-left: 1em; padding-right: 1em; text-align: center; vertical-align: top\">566</td>\n",
       "        <td style=\"padding-left: 1em; padding-right: 1em; text-align: center; vertical-align: top\">6.08912532854</td>\n",
       "        <td style=\"padding-left: 1em; padding-right: 1em; text-align: center; vertical-align: top\">1</td>\n",
       "    </tr>\n",
       "    <tr>\n",
       "        <td style=\"padding-left: 1em; padding-right: 1em; text-align: center; vertical-align: top\">1</td>\n",
       "        <td style=\"padding-left: 1em; padding-right: 1em; text-align: center; vertical-align: top\">4</td>\n",
       "        <td style=\"padding-left: 1em; padding-right: 1em; text-align: center; vertical-align: top\">5.83309262323</td>\n",
       "        <td style=\"padding-left: 1em; padding-right: 1em; text-align: center; vertical-align: top\">2</td>\n",
       "    </tr>\n",
       "    <tr>\n",
       "        <td style=\"padding-left: 1em; padding-right: 1em; text-align: center; vertical-align: top\">1</td>\n",
       "        <td style=\"padding-left: 1em; padding-right: 1em; text-align: center; vertical-align: top\">209</td>\n",
       "        <td style=\"padding-left: 1em; padding-right: 1em; text-align: center; vertical-align: top\">5.61531310606</td>\n",
       "        <td style=\"padding-left: 1em; padding-right: 1em; text-align: center; vertical-align: top\">3</td>\n",
       "    </tr>\n",
       "    <tr>\n",
       "        <td style=\"padding-left: 1em; padding-right: 1em; text-align: center; vertical-align: top\">1</td>\n",
       "        <td style=\"padding-left: 1em; padding-right: 1em; text-align: center; vertical-align: top\">220</td>\n",
       "        <td style=\"padding-left: 1em; padding-right: 1em; text-align: center; vertical-align: top\">5.60774915743</td>\n",
       "        <td style=\"padding-left: 1em; padding-right: 1em; text-align: center; vertical-align: top\">4</td>\n",
       "    </tr>\n",
       "    <tr>\n",
       "        <td style=\"padding-left: 1em; padding-right: 1em; text-align: center; vertical-align: top\">1</td>\n",
       "        <td style=\"padding-left: 1em; padding-right: 1em; text-align: center; vertical-align: top\">203</td>\n",
       "        <td style=\"padding-left: 1em; padding-right: 1em; text-align: center; vertical-align: top\">5.5997412734</td>\n",
       "        <td style=\"padding-left: 1em; padding-right: 1em; text-align: center; vertical-align: top\">5</td>\n",
       "    </tr>\n",
       "</table>\n",
       "[5 rows x 4 columns]<br/>\n",
       "</div>"
      ],
      "text/plain": [
       "Columns:\n",
       "\tuser\tint\n",
       "\tmovie\tint\n",
       "\tscore\tfloat\n",
       "\trank\tint\n",
       "\n",
       "Rows: 5\n",
       "\n",
       "Data:\n",
       "+------+-------+---------------+------+\n",
       "| user | movie |     score     | rank |\n",
       "+------+-------+---------------+------+\n",
       "|  1   |  566  | 6.08912532854 |  1   |\n",
       "|  1   |   4   | 5.83309262323 |  2   |\n",
       "|  1   |  209  | 5.61531310606 |  3   |\n",
       "|  1   |  220  | 5.60774915743 |  4   |\n",
       "|  1   |  203  |  5.5997412734 |  5   |\n",
       "+------+-------+---------------+------+\n",
       "[5 rows x 4 columns]"
      ]
     },
     "execution_count": 13,
     "metadata": {},
     "output_type": "execute_result"
    }
   ],
   "source": [
    "matrix_fact = gl.factorization_recommender.create(data, target='rating',\n",
    "                                                  user_id='user', item_id='movie',\n",
    "                                                  user_data=None, item_data=None,\n",
    "                                                  regularization = 1e-4,\n",
    "                                                  verbose=False)\n",
    "print matrix_fact.predict(one_datapoint_sf)\n",
    "matrix_fact.recommend(users=np.array([1]), k=5)"
   ]
  },
  {
   "cell_type": "code",
   "execution_count": 14,
   "metadata": {
    "collapsed": false
   },
   "outputs": [
    {
     "name": "stdout",
     "output_type": "stream",
     "text": [
      "{'movie': Columns:\n",
      "\tmovie\tint\n",
      "\tlinear_terms\tfloat\n",
      "\tfactors\tarray\n",
      "\n",
      "Rows: 551\n",
      "\n",
      "Data:\n",
      "+-------+-----------------+-------------------------------+\n",
      "| movie |   linear_terms  |            factors            |\n",
      "+-------+-----------------+-------------------------------+\n",
      "|  242  |  0.594195842743 | [0.0743168666959, -0.19293... |\n",
      "|  302  |  0.463811606169 | [-0.117401659489, 0.171064... |\n",
      "|  377  |  -2.58234286308 | [0.000271603814326, 0.0015... |\n",
      "|   51  |  -0.94407081604 | [0.0123480930924, 0.013804... |\n",
      "|  346  |  -1.30766832829 | [-0.25694668293, -0.527391... |\n",
      "|  474  |  1.49613690376  | [0.0396084226668, 0.210686... |\n",
      "|  265  |  0.41582262516  | [0.236695408821, 0.3987476... |\n",
      "|  465  |  1.45149409771  | [0.000364542764146, 0.0014... |\n",
      "|  451  | -0.799559414387 | [-0.0188290663064, 0.03579... |\n",
      "|   86  |  0.697341501713 | [-0.174927383661, -0.04498... |\n",
      "+-------+-----------------+-------------------------------+\n",
      "[551 rows x 3 columns]\n",
      "Note: Only the head of the SFrame is printed.\n",
      "You can use print_rows(num_rows=m, num_columns=n) to print more rows and columns., 'intercept': 3.518, 'user': Columns:\n",
      "\tuser\tint\n",
      "\tlinear_terms\tfloat\n",
      "\tfactors\tarray\n",
      "\n",
      "Rows: 249\n",
      "\n",
      "Data:\n",
      "+------+------------------+-------------------------------+\n",
      "| user |   linear_terms   |            factors            |\n",
      "+------+------------------+-------------------------------+\n",
      "| 196  | -0.949440419674  | [-0.018578061834, 0.048448... |\n",
      "| 186  |  -1.06242311001  | [-0.0197987444699, 0.02732... |\n",
      "|  22  |  0.123132228851  | [-0.0091832363978, -0.0264... |\n",
      "| 244  |  -0.65597820282  | [0.238427489996, 0.4300467... |\n",
      "| 166  |  0.145648628473  | [0.270486593246, 0.4724327... |\n",
      "| 298  | -0.693863332272  | [-0.0287115443498, -0.6209... |\n",
      "| 115  |  -1.12969195843  | [-0.197742089629, -0.27450... |\n",
      "| 253  | -0.0252878945321 | [0.00515623856336, 0.02706... |\n",
      "| 305  |  0.368934512138  | [0.321862667799, -0.564223... |\n",
      "|  6   |  -0.68652510643  | [0.560085654259, 0.1053475... |\n",
      "+------+------------------+-------------------------------+\n",
      "[249 rows x 3 columns]\n",
      "Note: Only the head of the SFrame is printed.\n",
      "You can use print_rows(num_rows=m, num_columns=n) to print more rows and columns.}\n"
     ]
    }
   ],
   "source": [
    "#print matrix_fact.list_fields()\n",
    "print matrix_fact.get('coefficients')"
   ]
  },
  {
   "cell_type": "markdown",
   "metadata": {},
   "source": [
    "How predicting works"
   ]
  },
  {
   "cell_type": "code",
   "execution_count": 15,
   "metadata": {
    "collapsed": false
   },
   "outputs": [
    {
     "name": "stdout",
     "output_type": "stream",
     "text": [
      "4.98430709306\n"
     ]
    }
   ],
   "source": [
    "#get user 1 coefficients\n",
    "user = matrix_fact.get('coefficients')['user']\n",
    "user_1_fact = user[user['user'] == 1]['factors']\n",
    "\n",
    "#get movie 100 coeficients\n",
    "movie = matrix_fact.get('coefficients')['movie']\n",
    "movie_100_fact = movie[movie['movie'] == 100]['factors']\n",
    "\n",
    "#make a dot product\n",
    "dot = np.dot(np.array(user_1_fact), np.array(movie_100_fact).reshape(8,1))[0][0]\n",
    "\n",
    "#add 3 intercepts to the dot product (overall, user, movie)\n",
    "#overall intercept is just mean of data: data['rating'].mean()\n",
    "pred = dot + movie[movie['movie'] == 100]['linear_terms'] \\\n",
    "    + user[user['user'] == 1]['linear_terms'] \\\n",
    "    + matrix_fact.get('coefficients')['intercept']\n",
    "print pred[0]"
   ]
  },
  {
   "cell_type": "markdown",
   "metadata": {
    "collapsed": true
   },
   "source": [
    "<a id='ItemSimilarityRecommender'></a>\n",
    "### Item Similarity Recommender\n",
    "[ItemSimilarityRecommender](https://dato.com/products/create/docs/generated/graphlab.recommender.item_similarity_recommender.ItemSimilarityRecommender.html#graphlab.recommender.item_similarity_recommender.ItemSimilarityRecommender)<br>\n",
    "[create()](https://dato.com/products/create/docs/generated/graphlab.recommender.item_similarity_recommender.create.html#graphlab.recommender.item_similarity_recommender.create)\n",
    "\n",
    "Ranks an item according to its similarity to other items observed for the user in question. Computes the similarity between items using the observations of users who have interacted with both items.\n",
    "\n",
    "*side features currently ignored*<br>\n",
    "*three choices of similarity metrics to use: ‘jaccard’, ‘cosine’ and ‘pearson’ (cosine does not really work as data is not demeaned)*"
   ]
  },
  {
   "cell_type": "code",
   "execution_count": 16,
   "metadata": {
    "collapsed": false
   },
   "outputs": [
    {
     "data": {
      "text/html": [
       "<pre>Recsys training: model = item_similarity</pre>"
      ],
      "text/plain": [
       "Recsys training: model = item_similarity"
      ]
     },
     "metadata": {},
     "output_type": "display_data"
    },
    {
     "name": "stdout",
     "output_type": "stream",
     "text": [
      "[4.333333333333333]\n"
     ]
    },
    {
     "data": {
      "text/html": [
       "<div style=\"max-height:1000px;max-width:1500px;overflow:auto;\"><table frame=\"box\" rules=\"cols\">\n",
       "    <tr>\n",
       "        <th style=\"padding-left: 1em; padding-right: 1em; text-align: center\">user</th>\n",
       "        <th style=\"padding-left: 1em; padding-right: 1em; text-align: center\">movie</th>\n",
       "        <th style=\"padding-left: 1em; padding-right: 1em; text-align: center\">score</th>\n",
       "        <th style=\"padding-left: 1em; padding-right: 1em; text-align: center\">rank</th>\n",
       "    </tr>\n",
       "    <tr>\n",
       "        <td style=\"padding-left: 1em; padding-right: 1em; text-align: center; vertical-align: top\">1</td>\n",
       "        <td style=\"padding-left: 1em; padding-right: 1em; text-align: center; vertical-align: top\">1137</td>\n",
       "        <td style=\"padding-left: 1em; padding-right: 1em; text-align: center; vertical-align: top\">5.0</td>\n",
       "        <td style=\"padding-left: 1em; padding-right: 1em; text-align: center; vertical-align: top\">1</td>\n",
       "    </tr>\n",
       "    <tr>\n",
       "        <td style=\"padding-left: 1em; padding-right: 1em; text-align: center; vertical-align: top\">1</td>\n",
       "        <td style=\"padding-left: 1em; padding-right: 1em; text-align: center; vertical-align: top\">327</td>\n",
       "        <td style=\"padding-left: 1em; padding-right: 1em; text-align: center; vertical-align: top\">5.0</td>\n",
       "        <td style=\"padding-left: 1em; padding-right: 1em; text-align: center; vertical-align: top\">2</td>\n",
       "    </tr>\n",
       "    <tr>\n",
       "        <td style=\"padding-left: 1em; padding-right: 1em; text-align: center; vertical-align: top\">1</td>\n",
       "        <td style=\"padding-left: 1em; padding-right: 1em; text-align: center; vertical-align: top\">603</td>\n",
       "        <td style=\"padding-left: 1em; padding-right: 1em; text-align: center; vertical-align: top\">5.0</td>\n",
       "        <td style=\"padding-left: 1em; padding-right: 1em; text-align: center; vertical-align: top\">3</td>\n",
       "    </tr>\n",
       "    <tr>\n",
       "        <td style=\"padding-left: 1em; padding-right: 1em; text-align: center; vertical-align: top\">1</td>\n",
       "        <td style=\"padding-left: 1em; padding-right: 1em; text-align: center; vertical-align: top\">95</td>\n",
       "        <td style=\"padding-left: 1em; padding-right: 1em; text-align: center; vertical-align: top\">5.0</td>\n",
       "        <td style=\"padding-left: 1em; padding-right: 1em; text-align: center; vertical-align: top\">4</td>\n",
       "    </tr>\n",
       "    <tr>\n",
       "        <td style=\"padding-left: 1em; padding-right: 1em; text-align: center; vertical-align: top\">1</td>\n",
       "        <td style=\"padding-left: 1em; padding-right: 1em; text-align: center; vertical-align: top\">465</td>\n",
       "        <td style=\"padding-left: 1em; padding-right: 1em; text-align: center; vertical-align: top\">5.0</td>\n",
       "        <td style=\"padding-left: 1em; padding-right: 1em; text-align: center; vertical-align: top\">5</td>\n",
       "    </tr>\n",
       "</table>\n",
       "[5 rows x 4 columns]<br/>\n",
       "</div>"
      ],
      "text/plain": [
       "Columns:\n",
       "\tuser\tint\n",
       "\tmovie\tint\n",
       "\tscore\tfloat\n",
       "\trank\tint\n",
       "\n",
       "Rows: 5\n",
       "\n",
       "Data:\n",
       "+------+-------+-------+------+\n",
       "| user | movie | score | rank |\n",
       "+------+-------+-------+------+\n",
       "|  1   |  1137 |  5.0  |  1   |\n",
       "|  1   |  327  |  5.0  |  2   |\n",
       "|  1   |  603  |  5.0  |  3   |\n",
       "|  1   |   95  |  5.0  |  4   |\n",
       "|  1   |  465  |  5.0  |  5   |\n",
       "+------+-------+-------+------+\n",
       "[5 rows x 4 columns]"
      ]
     },
     "execution_count": 16,
     "metadata": {},
     "output_type": "execute_result"
    }
   ],
   "source": [
    "item_sim = gl.recommender.item_similarity_recommender.create(data, target='rating',\n",
    "                                                             user_id='user', item_id='movie',\n",
    "                                                             #user_data=None, item_data=None, #currently ignored\n",
    "                                                             similarity_type='pearson',\n",
    "                                                             verbose=False)\n",
    "print item_sim.predict(one_datapoint_sf)\n",
    "item_sim.recommend(users=np.array([1]), k=5)"
   ]
  },
  {
   "cell_type": "code",
   "execution_count": 17,
   "metadata": {
    "collapsed": false
   },
   "outputs": [
    {
     "name": "stdout",
     "output_type": "stream",
     "text": [
      "None\n"
     ]
    }
   ],
   "source": [
    "#print item_sim.list_fields()\n",
    "print item_sim.get('training_rmse')"
   ]
  },
  {
   "cell_type": "code",
   "execution_count": 18,
   "metadata": {
    "collapsed": false
   },
   "outputs": [
    {
     "data": {
      "text/html": [
       "<pre>Getting similar items completed in 0.002224</pre>"
      ],
      "text/plain": [
       "Getting similar items completed in 0.002224"
      ]
     },
     "metadata": {},
     "output_type": "display_data"
    },
    {
     "data": {
      "text/html": [
       "<div style=\"max-height:1000px;max-width:1500px;overflow:auto;\"><table frame=\"box\" rules=\"cols\">\n",
       "    <tr>\n",
       "        <th style=\"padding-left: 1em; padding-right: 1em; text-align: center\">movie</th>\n",
       "        <th style=\"padding-left: 1em; padding-right: 1em; text-align: center\">similar</th>\n",
       "        <th style=\"padding-left: 1em; padding-right: 1em; text-align: center\">score</th>\n",
       "        <th style=\"padding-left: 1em; padding-right: 1em; text-align: center\">rank</th>\n",
       "    </tr>\n",
       "    <tr>\n",
       "        <td style=\"padding-left: 1em; padding-right: 1em; text-align: center; vertical-align: top\">242</td>\n",
       "        <td style=\"padding-left: 1em; padding-right: 1em; text-align: center; vertical-align: top\">289</td>\n",
       "        <td style=\"padding-left: 1em; padding-right: 1em; text-align: center; vertical-align: top\">0.192450106144</td>\n",
       "        <td style=\"padding-left: 1em; padding-right: 1em; text-align: center; vertical-align: top\">1</td>\n",
       "    </tr>\n",
       "    <tr>\n",
       "        <td style=\"padding-left: 1em; padding-right: 1em; text-align: center; vertical-align: top\">242</td>\n",
       "        <td style=\"padding-left: 1em; padding-right: 1em; text-align: center; vertical-align: top\">1067</td>\n",
       "        <td style=\"padding-left: 1em; padding-right: 1em; text-align: center; vertical-align: top\">0.166666686535</td>\n",
       "        <td style=\"padding-left: 1em; padding-right: 1em; text-align: center; vertical-align: top\">2</td>\n",
       "    </tr>\n",
       "    <tr>\n",
       "        <td style=\"padding-left: 1em; padding-right: 1em; text-align: center; vertical-align: top\">302</td>\n",
       "        <td style=\"padding-left: 1em; padding-right: 1em; text-align: center; vertical-align: top\">250</td>\n",
       "        <td style=\"padding-left: 1em; padding-right: 1em; text-align: center; vertical-align: top\">0.375</td>\n",
       "        <td style=\"padding-left: 1em; padding-right: 1em; text-align: center; vertical-align: top\">1</td>\n",
       "    </tr>\n",
       "    <tr>\n",
       "        <td style=\"padding-left: 1em; padding-right: 1em; text-align: center; vertical-align: top\">302</td>\n",
       "        <td style=\"padding-left: 1em; padding-right: 1em; text-align: center; vertical-align: top\">286</td>\n",
       "        <td style=\"padding-left: 1em; padding-right: 1em; text-align: center; vertical-align: top\">0.125</td>\n",
       "        <td style=\"padding-left: 1em; padding-right: 1em; text-align: center; vertical-align: top\">2</td>\n",
       "    </tr>\n",
       "    <tr>\n",
       "        <td style=\"padding-left: 1em; padding-right: 1em; text-align: center; vertical-align: top\">302</td>\n",
       "        <td style=\"padding-left: 1em; padding-right: 1em; text-align: center; vertical-align: top\">742</td>\n",
       "        <td style=\"padding-left: 1em; padding-right: 1em; text-align: center; vertical-align: top\">0.1062682271</td>\n",
       "        <td style=\"padding-left: 1em; padding-right: 1em; text-align: center; vertical-align: top\">3</td>\n",
       "    </tr>\n",
       "    <tr>\n",
       "        <td style=\"padding-left: 1em; padding-right: 1em; text-align: center; vertical-align: top\">346</td>\n",
       "        <td style=\"padding-left: 1em; padding-right: 1em; text-align: center; vertical-align: top\">132</td>\n",
       "        <td style=\"padding-left: 1em; padding-right: 1em; text-align: center; vertical-align: top\">0.251976311207</td>\n",
       "        <td style=\"padding-left: 1em; padding-right: 1em; text-align: center; vertical-align: top\">1</td>\n",
       "    </tr>\n",
       "    <tr>\n",
       "        <td style=\"padding-left: 1em; padding-right: 1em; text-align: center; vertical-align: top\">346</td>\n",
       "        <td style=\"padding-left: 1em; padding-right: 1em; text-align: center; vertical-align: top\">96</td>\n",
       "        <td style=\"padding-left: 1em; padding-right: 1em; text-align: center; vertical-align: top\">0.0325300097466</td>\n",
       "        <td style=\"padding-left: 1em; padding-right: 1em; text-align: center; vertical-align: top\">2</td>\n",
       "    </tr>\n",
       "    <tr>\n",
       "        <td style=\"padding-left: 1em; padding-right: 1em; text-align: center; vertical-align: top\">474</td>\n",
       "        <td style=\"padding-left: 1em; padding-right: 1em; text-align: center; vertical-align: top\">486</td>\n",
       "        <td style=\"padding-left: 1em; padding-right: 1em; text-align: center; vertical-align: top\">0.333333313465</td>\n",
       "        <td style=\"padding-left: 1em; padding-right: 1em; text-align: center; vertical-align: top\">1</td>\n",
       "    </tr>\n",
       "    <tr>\n",
       "        <td style=\"padding-left: 1em; padding-right: 1em; text-align: center; vertical-align: top\">474</td>\n",
       "        <td style=\"padding-left: 1em; padding-right: 1em; text-align: center; vertical-align: top\">281</td>\n",
       "        <td style=\"padding-left: 1em; padding-right: 1em; text-align: center; vertical-align: top\">0.25</td>\n",
       "        <td style=\"padding-left: 1em; padding-right: 1em; text-align: center; vertical-align: top\">2</td>\n",
       "    </tr>\n",
       "    <tr>\n",
       "        <td style=\"padding-left: 1em; padding-right: 1em; text-align: center; vertical-align: top\">474</td>\n",
       "        <td style=\"padding-left: 1em; padding-right: 1em; text-align: center; vertical-align: top\">484</td>\n",
       "        <td style=\"padding-left: 1em; padding-right: 1em; text-align: center; vertical-align: top\">0.25</td>\n",
       "        <td style=\"padding-left: 1em; padding-right: 1em; text-align: center; vertical-align: top\">3</td>\n",
       "    </tr>\n",
       "</table>\n",
       "[968 rows x 4 columns]<br/>Note: Only the head of the SFrame is printed.<br/>You can use print_rows(num_rows=m, num_columns=n) to print more rows and columns.\n",
       "</div>"
      ],
      "text/plain": [
       "Columns:\n",
       "\tmovie\tint\n",
       "\tsimilar\tint\n",
       "\tscore\tfloat\n",
       "\trank\tint\n",
       "\n",
       "Rows: 968\n",
       "\n",
       "Data:\n",
       "+-------+---------+-----------------+------+\n",
       "| movie | similar |      score      | rank |\n",
       "+-------+---------+-----------------+------+\n",
       "|  242  |   289   |  0.192450106144 |  1   |\n",
       "|  242  |   1067  |  0.166666686535 |  2   |\n",
       "|  302  |   250   |      0.375      |  1   |\n",
       "|  302  |   286   |      0.125      |  2   |\n",
       "|  302  |   742   |   0.1062682271  |  3   |\n",
       "|  346  |   132   |  0.251976311207 |  1   |\n",
       "|  346  |    96   | 0.0325300097466 |  2   |\n",
       "|  474  |   486   |  0.333333313465 |  1   |\n",
       "|  474  |   281   |       0.25      |  2   |\n",
       "|  474  |   484   |       0.25      |  3   |\n",
       "+-------+---------+-----------------+------+\n",
       "[968 rows x 4 columns]\n",
       "Note: Only the head of the SFrame is printed.\n",
       "You can use print_rows(num_rows=m, num_columns=n) to print more rows and columns."
      ]
     },
     "execution_count": 18,
     "metadata": {},
     "output_type": "execute_result"
    }
   ],
   "source": [
    "item_sim.get_similar_items()"
   ]
  },
  {
   "cell_type": "markdown",
   "metadata": {},
   "source": [
    "<a id='PopularityRecommender'></a>\n",
    "### Popularity Recommender\n",
    "[PopularityRecommender](https://dato.com/products/create/docs/generated/graphlab.recommender.popularity_recommender.PopularityRecommender.html#graphlab.recommender.popularity_recommender.PopularityRecommender)<br>\n",
    "[create()](https://dato.com/products/create/docs/generated/graphlab.recommender.popularity_recommender.create.html#graphlab.recommender.popularity_recommender.create)\n",
    "\n",
    "Ranks an item according to its overall popularity. When making recommendations, the items are scored by the number of times it is seen in the training set. The item scores are the same for all users. Hence the recommendations are not tailored for individuals.\n",
    "\n",
    "*simple and fast, provides a reasonable baseline, can be used as a “background” model for new users*"
   ]
  },
  {
   "cell_type": "code",
   "execution_count": 19,
   "metadata": {
    "collapsed": false
   },
   "outputs": [
    {
     "data": {
      "text/html": [
       "<pre>Recsys training: model = popularity</pre>"
      ],
      "text/plain": [
       "Recsys training: model = popularity"
      ]
     },
     "metadata": {},
     "output_type": "display_data"
    },
    {
     "name": "stdout",
     "output_type": "stream",
     "text": [
      "[4.333333333333333]\n"
     ]
    },
    {
     "data": {
      "text/html": [
       "<div style=\"max-height:1000px;max-width:1500px;overflow:auto;\"><table frame=\"box\" rules=\"cols\">\n",
       "    <tr>\n",
       "        <th style=\"padding-left: 1em; padding-right: 1em; text-align: center\">user</th>\n",
       "        <th style=\"padding-left: 1em; padding-right: 1em; text-align: center\">movie</th>\n",
       "        <th style=\"padding-left: 1em; padding-right: 1em; text-align: center\">score</th>\n",
       "        <th style=\"padding-left: 1em; padding-right: 1em; text-align: center\">rank</th>\n",
       "    </tr>\n",
       "    <tr>\n",
       "        <td style=\"padding-left: 1em; padding-right: 1em; text-align: center; vertical-align: top\">1</td>\n",
       "        <td style=\"padding-left: 1em; padding-right: 1em; text-align: center; vertical-align: top\">1137</td>\n",
       "        <td style=\"padding-left: 1em; padding-right: 1em; text-align: center; vertical-align: top\">5.0</td>\n",
       "        <td style=\"padding-left: 1em; padding-right: 1em; text-align: center; vertical-align: top\">1</td>\n",
       "    </tr>\n",
       "    <tr>\n",
       "        <td style=\"padding-left: 1em; padding-right: 1em; text-align: center; vertical-align: top\">1</td>\n",
       "        <td style=\"padding-left: 1em; padding-right: 1em; text-align: center; vertical-align: top\">327</td>\n",
       "        <td style=\"padding-left: 1em; padding-right: 1em; text-align: center; vertical-align: top\">5.0</td>\n",
       "        <td style=\"padding-left: 1em; padding-right: 1em; text-align: center; vertical-align: top\">2</td>\n",
       "    </tr>\n",
       "    <tr>\n",
       "        <td style=\"padding-left: 1em; padding-right: 1em; text-align: center; vertical-align: top\">1</td>\n",
       "        <td style=\"padding-left: 1em; padding-right: 1em; text-align: center; vertical-align: top\">603</td>\n",
       "        <td style=\"padding-left: 1em; padding-right: 1em; text-align: center; vertical-align: top\">5.0</td>\n",
       "        <td style=\"padding-left: 1em; padding-right: 1em; text-align: center; vertical-align: top\">3</td>\n",
       "    </tr>\n",
       "    <tr>\n",
       "        <td style=\"padding-left: 1em; padding-right: 1em; text-align: center; vertical-align: top\">1</td>\n",
       "        <td style=\"padding-left: 1em; padding-right: 1em; text-align: center; vertical-align: top\">95</td>\n",
       "        <td style=\"padding-left: 1em; padding-right: 1em; text-align: center; vertical-align: top\">5.0</td>\n",
       "        <td style=\"padding-left: 1em; padding-right: 1em; text-align: center; vertical-align: top\">4</td>\n",
       "    </tr>\n",
       "    <tr>\n",
       "        <td style=\"padding-left: 1em; padding-right: 1em; text-align: center; vertical-align: top\">1</td>\n",
       "        <td style=\"padding-left: 1em; padding-right: 1em; text-align: center; vertical-align: top\">465</td>\n",
       "        <td style=\"padding-left: 1em; padding-right: 1em; text-align: center; vertical-align: top\">5.0</td>\n",
       "        <td style=\"padding-left: 1em; padding-right: 1em; text-align: center; vertical-align: top\">5</td>\n",
       "    </tr>\n",
       "</table>\n",
       "[5 rows x 4 columns]<br/>\n",
       "</div>"
      ],
      "text/plain": [
       "Columns:\n",
       "\tuser\tint\n",
       "\tmovie\tint\n",
       "\tscore\tfloat\n",
       "\trank\tint\n",
       "\n",
       "Rows: 5\n",
       "\n",
       "Data:\n",
       "+------+-------+-------+------+\n",
       "| user | movie | score | rank |\n",
       "+------+-------+-------+------+\n",
       "|  1   |  1137 |  5.0  |  1   |\n",
       "|  1   |  327  |  5.0  |  2   |\n",
       "|  1   |  603  |  5.0  |  3   |\n",
       "|  1   |   95  |  5.0  |  4   |\n",
       "|  1   |  465  |  5.0  |  5   |\n",
       "+------+-------+-------+------+\n",
       "[5 rows x 4 columns]"
      ]
     },
     "execution_count": 19,
     "metadata": {},
     "output_type": "execute_result"
    }
   ],
   "source": [
    "popularity = gl.recommender.popularity_recommender.create(data, target='rating',\n",
    "                                                          user_id='user', item_id='movie',\n",
    "                                                          #user_data=None, item_data=None, #useless\n",
    "                                                          verbose=False)\n",
    "print popularity.predict(one_datapoint_sf)\n",
    "popularity.recommend(users=np.array([1]), k=5)"
   ]
  },
  {
   "cell_type": "code",
   "execution_count": 20,
   "metadata": {
    "collapsed": false
   },
   "outputs": [
    {
     "name": "stdout",
     "output_type": "stream",
     "text": [
      "training RMSE: 0.700375749492\n",
      "+-------+---------------+\n",
      "| movie |   prediction  |\n",
      "+-------+---------------+\n",
      "|  242  | 3.66666666667 |\n",
      "|  302  |      3.75     |\n",
      "|  377  |      1.0      |\n",
      "|   51  |      2.0      |\n",
      "|  346  | 2.66666666667 |\n",
      "|  474  |      4.5      |\n",
      "|  265  |      3.4      |\n",
      "|  465  |      5.0      |\n",
      "|  451  |      3.0      |\n",
      "|   86  |      4.0      |\n",
      "+-------+---------------+\n",
      "[551 rows x 2 columns]\n",
      "Note: Only the head of the SFrame is printed.\n",
      "You can use print_rows(num_rows=m, num_columns=n) to print more rows and columns.\n"
     ]
    }
   ],
   "source": [
    "#print popularity.list_fields()\n",
    "print 'training RMSE:', popularity.get('training_rmse')\n",
    "print popularity.get('item_predictions')"
   ]
  },
  {
   "cell_type": "markdown",
   "metadata": {},
   "source": [
    "<a id='RankingFactorizationRecommender'></a>\n",
    "### Ranking Factorization Recommender\n",
    "[RankingFactorizationRecommender](https://dato.com/products/create/docs/generated/graphlab.recommender.ranking_factorization_recommender.RankingFactorizationRecommender.html#graphlab.recommender.ranking_factorization_recommender.RankingFactorizationRecommender)<br>\n",
    "[create()](https://dato.com/products/create/docs/generated/graphlab.recommender.ranking_factorization_recommender.create.html#graphlab.recommender.ranking_factorization_recommender.create)\n",
    "\n",
    "Learns latent factors for each user and item and uses them to rank recommended items according to the likelihood of observing those (user, item) pairs. This is commonly desired when performing collaborative filtering for implicit feedback datasets or datasets with explicit ratings for which ranking prediction is desired.\n",
    "\n",
    "*from playing around with this, it appears to be very unstable model (at least on this dataset), chose parameters carefully!*"
   ]
  },
  {
   "cell_type": "code",
   "execution_count": 21,
   "metadata": {
    "collapsed": false
   },
   "outputs": [
    {
     "data": {
      "text/html": [
       "<pre>Recsys training: model = ranking_factorization_recommender</pre>"
      ],
      "text/plain": [
       "Recsys training: model = ranking_factorization_recommender"
      ]
     },
     "metadata": {},
     "output_type": "display_data"
    },
    {
     "name": "stdout",
     "output_type": "stream",
     "text": [
      "[2.981244371116161]\n"
     ]
    },
    {
     "data": {
      "text/html": [
       "<div style=\"max-height:1000px;max-width:1500px;overflow:auto;\"><table frame=\"box\" rules=\"cols\">\n",
       "    <tr>\n",
       "        <th style=\"padding-left: 1em; padding-right: 1em; text-align: center\">user</th>\n",
       "        <th style=\"padding-left: 1em; padding-right: 1em; text-align: center\">movie</th>\n",
       "        <th style=\"padding-left: 1em; padding-right: 1em; text-align: center\">score</th>\n",
       "        <th style=\"padding-left: 1em; padding-right: 1em; text-align: center\">rank</th>\n",
       "    </tr>\n",
       "    <tr>\n",
       "        <td style=\"padding-left: 1em; padding-right: 1em; text-align: center; vertical-align: top\">1</td>\n",
       "        <td style=\"padding-left: 1em; padding-right: 1em; text-align: center; vertical-align: top\">79</td>\n",
       "        <td style=\"padding-left: 1em; padding-right: 1em; text-align: center; vertical-align: top\">4.07778113413</td>\n",
       "        <td style=\"padding-left: 1em; padding-right: 1em; text-align: center; vertical-align: top\">1</td>\n",
       "    </tr>\n",
       "    <tr>\n",
       "        <td style=\"padding-left: 1em; padding-right: 1em; text-align: center; vertical-align: top\">1</td>\n",
       "        <td style=\"padding-left: 1em; padding-right: 1em; text-align: center; vertical-align: top\">328</td>\n",
       "        <td style=\"padding-left: 1em; padding-right: 1em; text-align: center; vertical-align: top\">3.99390357065</td>\n",
       "        <td style=\"padding-left: 1em; padding-right: 1em; text-align: center; vertical-align: top\">2</td>\n",
       "    </tr>\n",
       "    <tr>\n",
       "        <td style=\"padding-left: 1em; padding-right: 1em; text-align: center; vertical-align: top\">1</td>\n",
       "        <td style=\"padding-left: 1em; padding-right: 1em; text-align: center; vertical-align: top\">209</td>\n",
       "        <td style=\"padding-left: 1em; padding-right: 1em; text-align: center; vertical-align: top\">3.97808187532</td>\n",
       "        <td style=\"padding-left: 1em; padding-right: 1em; text-align: center; vertical-align: top\">3</td>\n",
       "    </tr>\n",
       "    <tr>\n",
       "        <td style=\"padding-left: 1em; padding-right: 1em; text-align: center; vertical-align: top\">1</td>\n",
       "        <td style=\"padding-left: 1em; padding-right: 1em; text-align: center; vertical-align: top\">197</td>\n",
       "        <td style=\"padding-left: 1em; padding-right: 1em; text-align: center; vertical-align: top\">3.96886139441</td>\n",
       "        <td style=\"padding-left: 1em; padding-right: 1em; text-align: center; vertical-align: top\">4</td>\n",
       "    </tr>\n",
       "    <tr>\n",
       "        <td style=\"padding-left: 1em; padding-right: 1em; text-align: center; vertical-align: top\">1</td>\n",
       "        <td style=\"padding-left: 1em; padding-right: 1em; text-align: center; vertical-align: top\">23</td>\n",
       "        <td style=\"padding-left: 1em; padding-right: 1em; text-align: center; vertical-align: top\">3.92106645632</td>\n",
       "        <td style=\"padding-left: 1em; padding-right: 1em; text-align: center; vertical-align: top\">5</td>\n",
       "    </tr>\n",
       "</table>\n",
       "[5 rows x 4 columns]<br/>\n",
       "</div>"
      ],
      "text/plain": [
       "Columns:\n",
       "\tuser\tint\n",
       "\tmovie\tint\n",
       "\tscore\tfloat\n",
       "\trank\tint\n",
       "\n",
       "Rows: 5\n",
       "\n",
       "Data:\n",
       "+------+-------+---------------+------+\n",
       "| user | movie |     score     | rank |\n",
       "+------+-------+---------------+------+\n",
       "|  1   |   79  | 4.07778113413 |  1   |\n",
       "|  1   |  328  | 3.99390357065 |  2   |\n",
       "|  1   |  209  | 3.97808187532 |  3   |\n",
       "|  1   |  197  | 3.96886139441 |  4   |\n",
       "|  1   |   23  | 3.92106645632 |  5   |\n",
       "+------+-------+---------------+------+\n",
       "[5 rows x 4 columns]"
      ]
     },
     "execution_count": 21,
     "metadata": {},
     "output_type": "execute_result"
    }
   ],
   "source": [
    "rank_fact = gl.recommender.ranking_factorization_recommender.create(data, target='rating',\n",
    "                                                                    user_id='user', item_id='movie',\n",
    "                                                                    user_data=None, item_data=None,\n",
    "                                                                    num_factors=32, regularization=1e-09,\n",
    "                                                                    linear_regularization=1e-09, #solver='sgd',\n",
    "                                                                    verbose=False)\n",
    "print rank_fact.predict(one_datapoint_sf)\n",
    "rank_fact.recommend(users=np.array([1]), k=5)"
   ]
  },
  {
   "cell_type": "code",
   "execution_count": 22,
   "metadata": {
    "collapsed": false
   },
   "outputs": [
    {
     "data": {
      "text/plain": [
       "{'intercept': 3.518, 'movie': Columns:\n",
       " \tmovie\tint\n",
       " \tlinear_terms\tfloat\n",
       " \tfactors\tarray\n",
       " \n",
       " Rows: 551\n",
       " \n",
       " Data:\n",
       " +-------+-----------------+-------------------------------+\n",
       " | movie |   linear_terms  |            factors            |\n",
       " +-------+-----------------+-------------------------------+\n",
       " |  242  |  0.156346768141 | [-0.0105757359415, -0.0197... |\n",
       " |  302  | 0.0414082817733 | [-0.0993492081761, -0.1024... |\n",
       " |  377  |  -1.98437452316 | [0.00470882328227, -0.0116... |\n",
       " |   51  | -0.588530600071 | [-0.0338789150119, 0.03737... |\n",
       " |  346  |  -1.17732822895 | [0.00348259904422, -0.2153... |\n",
       " |  474  | -0.149066910148 | [0.16456541419, -0.2462467... |\n",
       " |  265  | -0.240351870656 | [-0.118175491691, 0.244684... |\n",
       " |  465  |  0.132390648127 | [-0.000184644013643, 0.068... |\n",
       " |  451  | -0.298329472542 | [-0.026411825791, -0.03690... |\n",
       " |   86  |  0.191182792187 | [-0.252721220255, -0.01252... |\n",
       " +-------+-----------------+-------------------------------+\n",
       " [551 rows x 3 columns]\n",
       " Note: Only the head of the SFrame is printed.\n",
       " You can use print_rows(num_rows=m, num_columns=n) to print more rows and columns., 'user': Columns:\n",
       " \tuser\tint\n",
       " \tlinear_terms\tfloat\n",
       " \tfactors\tarray\n",
       " \n",
       " Rows: 249\n",
       " \n",
       " Data:\n",
       " +------+-----------------+-------------------------------+\n",
       " | user |   linear_terms  |            factors            |\n",
       " +------+-----------------+-------------------------------+\n",
       " | 196  | -0.511367499828 | [-0.0483370013535, 0.05711... |\n",
       " | 186  |  -1.79217922688 | [-0.0835426673293, 0.16940... |\n",
       " |  22  | -0.613125562668 | [0.0745363235474, 0.235681... |\n",
       " | 244  |  -1.81794130802 | [-0.292047053576, 0.289927... |\n",
       " | 166  | -0.663574099541 | [0.0405937880278, 0.292668... |\n",
       " | 298  |  -0.78261423111 | [0.283514946699, -0.287291... |\n",
       " | 115  | -0.787882208824 | [-0.0745648741722, -0.0989... |\n",
       " | 253  | -0.130085721612 | [-0.0155783062801, 0.05476... |\n",
       " | 305  |  -1.02551805973 | [-0.0730859935284, -0.4612... |\n",
       " |  6   |  -1.46449577808 | [0.459399372339, -0.071054... |\n",
       " +------+-----------------+-------------------------------+\n",
       " [249 rows x 3 columns]\n",
       " Note: Only the head of the SFrame is printed.\n",
       " You can use print_rows(num_rows=m, num_columns=n) to print more rows and columns.}"
      ]
     },
     "execution_count": 22,
     "metadata": {},
     "output_type": "execute_result"
    }
   ],
   "source": [
    "#rank_fact.list_fields()\n",
    "rank_fact.get('coefficients')"
   ]
  },
  {
   "cell_type": "code",
   "execution_count": null,
   "metadata": {
    "collapsed": true
   },
   "outputs": [],
   "source": []
  }
 ],
 "metadata": {
  "kernelspec": {
   "display_name": "Python 2",
   "language": "python",
   "name": "python2"
  },
  "language_info": {
   "codemirror_mode": {
    "name": "ipython",
    "version": 2
   },
   "file_extension": ".py",
   "mimetype": "text/x-python",
   "name": "python",
   "nbconvert_exporter": "python",
   "pygments_lexer": "ipython2",
   "version": "2.7.12"
  }
 },
 "nbformat": 4,
 "nbformat_minor": 0
}
